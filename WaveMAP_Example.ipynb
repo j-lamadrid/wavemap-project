{
 "cells": [
  {
   "cell_type": "markdown",
   "metadata": {
    "colab_type": "text",
    "id": "view-in-github"
   },
   "source": [
    "<a href=\"https://colab.research.google.com/github/EricKenjiLee/WaveMAP_Paper/blob/main/WaveMAP_Example.ipynb\" target=\"_parent\"><img src=\"https://colab.research.google.com/assets/colab-badge.svg\" alt=\"Open In Colab\"/></a>"
   ]
  },
  {
   "cell_type": "markdown",
   "metadata": {
    "id": "vZ4iROLKzvz8"
   },
   "source": [
    "## Import all packages and install packages not included in Colab\n"
   ]
  },
  {
   "cell_type": "code",
   "execution_count": 1,
   "metadata": {
    "id": "_IdxQha2qWBP",
    "tags": [],
    "vscode": {
     "languageId": "python"
    }
   },
   "outputs": [
    {
     "name": "stderr",
     "output_type": "stream",
     "text": [
      "C:\\Users\\jlama\\anaconda3\\Lib\\site-packages\\pandas\\core\\arrays\\masked.py:60: UserWarning: Pandas requires version '1.3.6' or newer of 'bottleneck' (version '1.3.5' currently installed).\n",
      "  from pandas.core import (\n"
     ]
    }
   ],
   "source": [
    "import numpy as np\n",
    "from matplotlib import pyplot as plt\n",
    "import pandas as pd\n",
    "import seaborn as sns\n",
    "from sklearn import datasets\n",
    "from PIL import Image\n",
    "from io import BytesIO\n",
    "import base64\n",
    "\n",
    "from bokeh.plotting import figure, show, output_notebook, output_file\n",
    "from bokeh.models import HoverTool, ColumnDataSource, CategoricalColorMapper, ContinuousColorMapper\n",
    "from bokeh.palettes import Turbo256\n",
    "from bokeh.transform import linear_cmap\n",
    "from bokeh.transform import factor_cmap\n"
   ]
  },
  {
   "cell_type": "code",
   "execution_count": 6,
   "metadata": {
    "colab": {
     "base_uri": "https://localhost:8080/"
    },
    "id": "7kVw0RhLqSky",
    "outputId": "3cd04cdb-97a5-44c7-fcbb-387908e4bb10",
    "tags": [],
    "vscode": {
     "languageId": "python"
    }
   },
   "outputs": [],
   "source": [
    "#!pip install umap-learn==0.5.3\n",
    "from umap import umap_ as umap\n",
    "\n",
    "#!pip install networkx==2.4\n",
    "import networkx as nx\n",
    "\n",
    "#!pip install igraph\n",
    "import igraph as ig"
   ]
  },
  {
   "cell_type": "markdown",
   "metadata": {
    "id": "jqA7vl9Uz3z-"
   },
   "source": [
    "## ECG needs to be defined and added manually to iGraph"
   ]
  },
  {
   "cell_type": "code",
   "execution_count": 7,
   "metadata": {
    "id": "alie_AJHp1ym",
    "tags": [],
    "vscode": {
     "languageId": "python"
    }
   },
   "outputs": [],
   "source": [
    "def community_ecg(self, weights=None, ens_size=16, min_weight=0.05):\n",
    "    W = [0]*self.ecount()\n",
    "    ## Ensemble of level-1 Louvain \n",
    "    for i in range(ens_size):\n",
    "        p = np.random.permutation(self.vcount()).tolist()\n",
    "        g = self.permute_vertices(p)\n",
    "        l = g.community_multilevel(weights=weights, return_levels=True)[0].membership\n",
    "        b = [l[p[x.tuple[0]]]==l[p[x.tuple[1]]] for x in self.es]\n",
    "        W = [W[i]+b[i] for i in range(len(W))]\n",
    "    W = [min_weight + (1-min_weight)*W[i]/ens_size for i in range(len(W))]\n",
    "    ## Force min_weight outside 2-core\n",
    "    core = self.shell_index()\n",
    "    ecore = [min(core[x.tuple[0]],core[x.tuple[1]]) for x in self.es]\n",
    "    w = [W[i] if ecore[i]>1 else min_weight for i in range(len(ecore))]\n",
    "    part = self.community_multilevel(weights=w)\n",
    "    part.W = w\n",
    "    part.CSI = 1-2*np.sum([min(1-i,i) for i in w])/len(w)\n",
    "    return part\n",
    "\n",
    "ig.Graph.community_ecg = community_ecg"
   ]
  },
  {
   "cell_type": "markdown",
   "metadata": {
    "id": "d4xmDNue0CUd"
   },
   "source": [
    "## Loading Fashion MNIST data"
   ]
  },
  {
   "cell_type": "code",
   "execution_count": 8,
   "metadata": {
    "id": "imFWrVmXrfbg",
    "tags": [],
    "vscode": {
     "languageId": "python"
    }
   },
   "outputs": [
    {
     "name": "stderr",
     "output_type": "stream",
     "text": [
      "C:\\Users\\jlama\\anaconda3\\Lib\\site-packages\\sklearn\\datasets\\_openml.py:1002: FutureWarning: The default value of `parser` will change from `'liac-arff'` to `'auto'` in 1.4. You can set `parser='auto'` to silence this warning. Therefore, an `ImportError` will be raised from 1.4 if the dataset is dense and pandas is not installed. Note that the pandas parser may return different data types. See the Notes Section in fetch_openml's API doc for details.\n",
      "  warn(\n"
     ]
    }
   ],
   "source": [
    "fmnist = datasets.fetch_openml('Fashion-MNIST', as_frame=False)\n",
    "np.random.shuffle(fmnist.data)\n",
    "fmnist_subset = fmnist.data[:150,:]"
   ]
  },
  {
   "cell_type": "markdown",
   "metadata": {
    "id": "kY__FJxk0E66"
   },
   "source": [
    "## Compute UMAP step of WaveMAP\n",
    "\n"
   ]
  },
  {
   "cell_type": "code",
   "execution_count": 9,
   "metadata": {
    "id": "KRYvqF20psn3",
    "tags": [],
    "vscode": {
     "languageId": "python"
    }
   },
   "outputs": [],
   "source": [
    "reducer = umap.UMAP()\n",
    "mapper = reducer.fit(fmnist_subset)\n",
    "embedding = reducer.transform(fmnist_subset)"
   ]
  },
  {
   "cell_type": "markdown",
   "metadata": {
    "id": "YATfxi590b1t"
   },
   "source": [
    "## Calculate ECG of UMAP high-dimensional graph"
   ]
  },
  {
   "cell_type": "code",
   "execution_count": 10,
   "metadata": {
    "id": "fSAnVqGIp1Sp",
    "tags": [],
    "vscode": {
     "languageId": "python"
    }
   },
   "outputs": [],
   "source": [
    "G = nx.from_scipy_sparse_matrix(mapper.graph_)\n",
    "umap_igraph = ig.Graph(len(G), list(zip(*list(zip(*nx.to_edgelist(G)))[:2])))\n",
    "\n",
    "umap_ECG = umap_igraph.community_ecg(ens_size=10,min_weight=0.5)"
   ]
  },
  {
   "cell_type": "markdown",
   "metadata": {
    "id": "eJuaVC8e0fwD"
   },
   "source": [
    "## Plot WaveMAP i.e. UMAP with ECG clusters"
   ]
  },
  {
   "cell_type": "code",
   "execution_count": 11,
   "metadata": {
    "colab": {
     "base_uri": "https://localhost:8080/",
     "height": 700
    },
    "id": "6aiRxRiJpkXO",
    "outputId": "57f7a187-610f-4ac8-975e-f4bdfec7c3ed",
    "tags": [],
    "vscode": {
     "languageId": "python"
    }
   },
   "outputs": [
    {
     "data": {
      "text/plain": [
       "[]"
      ]
     },
     "execution_count": 11,
     "metadata": {},
     "output_type": "execute_result"
    },
    {
     "data": {
      "image/png": "[encoded data removed]",
      "text/plain": [
       "<Figure size 1500x1200 with 1 Axes>"
      ]
     },
     "metadata": {},
     "output_type": "display_data"
    }
   ],
   "source": [
    "umap_df = pd.DataFrame(embedding, columns=('x', 'y'))\n",
    "umap_df['color'] = umap_ECG.membership\n",
    "\n",
    "ecg_colormap = [sns.color_palette(\"husl\", len(set(umap_ECG.membership)))[i] for i in umap_ECG.membership]\n",
    "\n",
    "f, arr = plt.subplots(1,figsize=[15,12])\n",
    "\n",
    "arr.scatter(umap_df['x'].tolist(), umap_df['y'].tolist(), \n",
    "            marker='o',c=ecg_colormap, s=10, edgecolor='w',\n",
    "            linewidth=0.25)\n",
    "\n",
    "arr.spines['top'].set_visible(False)\n",
    "arr.spines['left'].set_visible(False)\n",
    "arr.spines['right'].set_visible(False)\n",
    "arr.spines['bottom'].set_visible(False)\n",
    "\n",
    "arr.set_xticks([])\n",
    "arr.set_yticks([])"
   ]
  },
  {
   "cell_type": "markdown",
   "metadata": {
    "id": "-9C8rbqIf-DF"
   },
   "source": [
    "## Here we construct an interactive WaveMAP plot with Bokeh"
   ]
  },
  {
   "cell_type": "code",
   "execution_count": 12,
   "metadata": {
    "id": "ZNAZHUrP153g",
    "tags": [],
    "vscode": {
     "languageId": "python"
    }
   },
   "outputs": [],
   "source": [
    "def embeddable_image(data,color=None):\n",
    "    fig, ax = plt.subplots()\n",
    "    fig.set_figheight(0.5)\n",
    "    fig.set_figwidth(0.5)\n",
    "    ax.imshow(data.reshape(28,28))\n",
    "    ax.axis('off')\n",
    "    fig.canvas.draw()\n",
    "    img_data = np.array(fig.canvas.renderer.buffer_rgba())\n",
    "    image = Image.fromarray(img_data, mode='RGBA')\n",
    "    buffer = BytesIO()\n",
    "    image.save(buffer, format='png')\n",
    "    for_encoding = buffer.getvalue()\n",
    "    plt.close()\n",
    "    \n",
    "    return 'data:image/png;base64,' + base64.b64encode(for_encoding).decode()\n",
    "\n",
    "\n",
    "def rgb2hex(rgb):\n",
    "    rgb = tuple([int(x*256) for x in rgb])\n",
    "    return '#%02x%02x%02x' % rgb"
   ]
  },
  {
   "cell_type": "code",
   "execution_count": 17,
   "metadata": {
    "colab": {
     "base_uri": "https://localhost:8080/"
    },
    "id": "KgwO0RWowmhz",
    "outputId": "01dfebfc-0541-4c4d-d15f-b5f0fdfe6b3b",
    "tags": [],
    "vscode": {
     "languageId": "python"
    }
   },
   "outputs": [],
   "source": [
    "umap_df['data'] = list(fmnist_subset)\n",
    "umap_df['image'] = list(map(embeddable_image, umap_df.data))\n",
    "datasource = ColumnDataSource(umap_df)\n",
    "\n",
    "plot_figure = figure(\n",
    "    title='WaveMAP of dataset',\n",
    "    width=900,\n",
    "    height=900,\n",
    "    tools=('pan, wheel_zoom, reset')\n",
    ")\n",
    "\n",
    "\n",
    "  \n",
    "n_clusts = len(umap_df['color'].unique())\n",
    "color_map = factor_cmap(field_name='color', \n",
    "                        palette=[rgb2hex(x) for x in list(sns.color_palette('husl',n_clusts))], \n",
    "                        factors=[str(x) for x in umap_df['color'].unique()] )\n",
    "\n",
    "plot_figure.circle(\n",
    "    'x',\n",
    "    'y',\n",
    "    source=datasource,\n",
    "    line_alpha=0.6,\n",
    "    fill_alpha=0.6,\n",
    "    size=4,\n",
    "    color = color_map\n",
    ")\n",
    "\n",
    "#output_file('WaveMAP_on_data.html')\n",
    "#show(plot_figure)"
   ]
  },
  {
   "cell_type": "code",
   "execution_count": null,
   "metadata": {
    "id": "DMF-c3KSQKNp",
    "tags": [],
    "vscode": {
     "languageId": "python"
    }
   },
   "outputs": [],
   "source": [
    "umap_df['data'] = list(fmnist_subset)\n",
    "umap_df['image'] = list(map(embeddable_image, umap_df.data))\n",
    "datasource = ColumnDataSource(umap_df)\n",
    "\n",
    "plot_figure = figure(\n",
    "    title='WaveMAP of dataset',\n",
    "    plot_width=900,\n",
    "    plot_height=900,\n",
    "    tools=('pan, wheel_zoom, reset')\n",
    ")\n",
    "\n",
    "plot_figure.add_tools(HoverTool(tooltips=\"\"\"\n",
    "<div>\n",
    "    <div>\n",
    "        <img src='@image' style='float: left; margin: 5px 5px 5px 5px'/>\n",
    "    </div>\n",
    "    <div>\n",
    "        <span style='font-size: 12px; color: #224499'>Index:</span>\n",
    "        <span style='font-size: 14px'>@index</span>\n",
    "    </div>\n",
    "</div>\n",
    "\"\"\"))\n",
    "\n",
    "color_ixs = np.round(np.linspace(0, len(Turbo256) - 1, len(umap_df['color'].unique()))).astype(int)\n",
    "colors = [Turbo256[i] for i in color_ixs]\n",
    "colormap = {i: colors[i] for i in umap_df['color'].unique()}\n",
    "color_list = [colormap[x] for x in umap_df['color']]\n",
    "umap_df['color_hex'] = color_list\n",
    "\n",
    "plot_figure.circle(\n",
    "    'x',\n",
    "    'y',\n",
    "    source=datasource,\n",
    "    line_alpha=0.6,\n",
    "    fill_alpha=0.6,\n",
    "    size=4,\n",
    "    color = 'color_hex'\n",
    ")\n",
    "\n",
    "#output_file('WaveMAP_on_data.html')\n",
    "show(plot_figure)"
   ]
  },
  {
   "cell_type": "code",
   "execution_count": null,
   "metadata": {},
   "outputs": [],
   "source": []
  },
  {
   "cell_type": "code",
   "execution_count": null,
   "metadata": {},
   "outputs": [],
   "source": []
  }
 ],
 "metadata": {
  "colab": {
   "authorship_tag": "ABX9TyN8x2dFdp0oDOnIIRKXAgKm",
   "include_colab_link": true,
   "name": "WaveMAP_Example.ipynb",
   "provenance": []
  },
  "kernelspec": {
   "display_name": "Python 3 (ipykernel)",
   "language": "python",
   "name": "python3"
  },
  "language_info": {
   "codemirror_mode": {
    "name": "ipython",
    "version": 3
   },
   "file_extension": ".py",
   "mimetype": "text/x-python",
   "name": "python",
   "nbconvert_exporter": "python",
   "pygments_lexer": "ipython3",
   "version": "3.11.4"
  }
 },
 "nbformat": 4,
 "nbformat_minor": 4
}
